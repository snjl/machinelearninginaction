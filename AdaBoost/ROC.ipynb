{
 "cells": [
  {
   "cell_type": "code",
   "execution_count": 1,
   "metadata": {},
   "outputs": [],
   "source": [
    "%matplotlib inline"
   ]
  },
  {
   "cell_type": "code",
   "execution_count": 2,
   "metadata": {},
   "outputs": [],
   "source": [
    "\n",
    "import numpy as np\n",
    "import matplotlib.pyplot as plt\n",
    "from matplotlib.font_manager import FontProperties\n",
    " "
   ]
  },
  {
   "cell_type": "code",
   "execution_count": 3,
   "metadata": {
    "pycharm": {
     "name": "#%%"
    }
   },
   "outputs": [],
   "source": [
    "\n",
    "\"\"\"\n",
    "Author:\n",
    "    Jack Cui\n",
    "Blog:\n",
    "    http://blog.csdn.net/c406495762\n",
    "Zhihu:\n",
    "    https://www.zhihu.com/people/Jack--Cui/\n",
    "Modify:\n",
    "    2017-10-10\n",
    "\"\"\"\n",
    " \n",
    "def loadDataSet(fileName):\n",
    "    numFeat = len((open(fileName).readline().split('\\t')))\n",
    "    dataMat = []; labelMat = []\n",
    "    fr = open(fileName)\n",
    "    for line in fr.readlines():\n",
    "        lineArr = []\n",
    "        curLine = line.strip().split('\\t')\n",
    "        for i in range(numFeat - 1):\n",
    "            lineArr.append(float(curLine[i]))\n",
    "        dataMat.append(lineArr)\n",
    "        labelMat.append(float(curLine[-1]))\n",
    " \n",
    "    return dataMat, labelMat\n",
    " \n",
    "def stumpClassify(dataMatrix,dimen,threshVal,threshIneq):\n",
    "    \"\"\"\n",
    "    单层决策树分类函数\n",
    "    Parameters:\n",
    "        dataMatrix - 数据矩阵\n",
    "        dimen - 第dimen列，也就是第几个特征\n",
    "        threshVal - 阈值\n",
    "        threshIneq - 标志\n",
    "    Returns:\n",
    "        retArray - 分类结果\n",
    "    \"\"\"\n",
    "    retArray = np.ones((np.shape(dataMatrix)[0],1))                #初始化retArray为1\n",
    "    if threshIneq == 'lt':\n",
    "        retArray[dataMatrix[:,dimen] <= threshVal] = -1.0         #如果小于阈值,则赋值为-1\n",
    "    else:\n",
    "        retArray[dataMatrix[:,dimen] > threshVal] = -1.0         #如果大于阈值,则赋值为-1\n",
    "    return retArray\n",
    " \n",
    " \n",
    "def buildStump(dataArr,classLabels,D):\n",
    "    \"\"\"\n",
    "    找到数据集上最佳的单层决策树\n",
    "    Parameters:\n",
    "        dataArr - 数据矩阵\n",
    "        classLabels - 数据标签\n",
    "        D - 样本权重\n",
    "    Returns:\n",
    "        bestStump - 最佳单层决策树信息\n",
    "        minError - 最小误差\n",
    "        bestClasEst - 最佳的分类结果\n",
    "    \"\"\"\n",
    "    dataMatrix = np.mat(dataArr); labelMat = np.mat(classLabels).T\n",
    "    m,n = np.shape(dataMatrix)\n",
    "    numSteps = 10.0; bestStump = {}; bestClasEst = np.mat(np.zeros((m,1)))\n",
    "    minError = float('inf')                                                        #最小误差初始化为正无穷大\n",
    "    for i in range(n):                                                            #遍历所有特征\n",
    "        rangeMin = dataMatrix[:,i].min(); rangeMax = dataMatrix[:,i].max()        #找到特征中最小的值和最大值\n",
    "        stepSize = (rangeMax - rangeMin) / numSteps                                #计算步长\n",
    "        for j in range(-1, int(numSteps) + 1):                                     \n",
    "            for inequal in ['lt', 'gt']:                                          #大于和小于的情况，均遍历。lt:less than，gt:greater than\n",
    "                threshVal = (rangeMin + float(j) * stepSize)                     #计算阈值\n",
    "                predictedVals = stumpClassify(dataMatrix, i, threshVal, inequal)#计算分类结果\n",
    "                errArr = np.mat(np.ones((m,1)))                                 #初始化误差矩阵\n",
    "                errArr[predictedVals == labelMat] = 0                             #分类正确的,赋值为0\n",
    "                weightedError = D.T * errArr                                      #计算误差\n",
    "                # print(\"split: dim %d, thresh %.2f, thresh ineqal: %s, the weighted error is %.3f\" % (i, threshVal, inequal, weightedError))\n",
    "                if weightedError < minError:                                     #找到误差最小的分类方式\n",
    "                    minError = weightedError\n",
    "                    bestClasEst = predictedVals.copy()\n",
    "                    bestStump['dim'] = i\n",
    "                    bestStump['thresh'] = threshVal\n",
    "                    bestStump['ineq'] = inequal\n",
    "    return bestStump, minError, bestClasEst\n",
    " \n",
    "def adaBoostTrainDS(dataArr, classLabels, numIt = 40):\n",
    "    \"\"\"\n",
    "    使用AdaBoost算法训练分类器\n",
    "    Parameters:\n",
    "        dataArr - 数据矩阵\n",
    "        classLabels - 数据标签\n",
    "        numIt - 最大迭代次数\n",
    "    Returns:\n",
    "        weakClassArr - 训练好的分类器\n",
    "        aggClassEst - 类别估计累计值\n",
    "    \"\"\"\n",
    "    weakClassArr = []\n",
    "    m = np.shape(dataArr)[0]\n",
    "    D = np.mat(np.ones((m, 1)) / m)                                            #初始化权重\n",
    "    aggClassEst = np.mat(np.zeros((m,1)))\n",
    "    for i in range(numIt):\n",
    "        bestStump, error, classEst = buildStump(dataArr, classLabels, D)     #构建单层决策树\n",
    "        # print(\"D:\",D.T)\n",
    "        alpha = float(0.5 * np.log((1.0 - error) / max(error, 1e-16)))         #计算弱学习算法权重alpha,使error不等于0,因为分母不能为0\n",
    "        bestStump['alpha'] = alpha                                          #存储弱学习算法权重\n",
    "        weakClassArr.append(bestStump)                                      #存储单层决策树\n",
    "        # print(\"classEst: \", classEst.T)\n",
    "        expon = np.multiply(-1 * alpha * np.mat(classLabels).T, classEst)     #计算e的指数项\n",
    "        D = np.multiply(D, np.exp(expon))                                     \n",
    "        D = D / D.sum()                                                        #根据样本权重公式，更新样本权重\n",
    "        #计算AdaBoost误差，当误差为0的时候，退出循环\n",
    "        aggClassEst += alpha * classEst                                      #计算类别估计累计值                               \n",
    "        # print(\"aggClassEst: \", aggClassEst.T)\n",
    "        aggErrors = np.multiply(np.sign(aggClassEst) != np.mat(classLabels).T, np.ones((m,1)))     #计算误差\n",
    "        errorRate = aggErrors.sum() / m\n",
    "        # print(\"total error: \", errorRate)\n",
    "        if errorRate == 0.0: break                                             #误差为0，退出循环\n",
    "    return weakClassArr, aggClassEst\n",
    " \n",
    " \n",
    "def plotROC(predStrengths, classLabels):\n",
    "    \"\"\"\n",
    "    绘制ROC\n",
    "    Parameters:\n",
    "        predStrengths - 分类器的预测强度\n",
    "        classLabels - 类别\n",
    "    Returns:\n",
    "        无\n",
    "    \"\"\"\n",
    "    font = FontProperties(fname=r\"c:\\windows\\fonts\\simsun.ttc\", size=14)\n",
    "    cur = (1.0, 1.0)                                                         #绘制光标的位置\n",
    "    ySum = 0.0                                                                 #用于计算AUC\n",
    "    numPosClas = np.sum(np.array(classLabels) == 1.0)                        #统计正类的数量\n",
    "    yStep = 1 / float(numPosClas)                                             #y轴步长   \n",
    "    xStep = 1 / float(len(classLabels) - numPosClas)                         #x轴步长\n",
    " \n",
    "    sortedIndicies = predStrengths.argsort()                                 #预测强度排序\n",
    " \n",
    "    fig = plt.figure()\n",
    "    fig.clf()\n",
    "    ax = plt.subplot(111)\n",
    "    for index in sortedIndicies.tolist()[0]:\n",
    "        if classLabels[index] == 1.0:\n",
    "            delX = 0; delY = yStep\n",
    "        else:\n",
    "            delX = xStep; delY = 0\n",
    "            ySum += cur[1]                                                     #高度累加\n",
    "        ax.plot([cur[0], cur[0] - delX], [cur[1], cur[1] - delY], c = 'b')     #绘制ROC\n",
    "        cur = (cur[0] - delX, cur[1] - delY)                                 #更新绘制光标的位置\n",
    "    ax.plot([0,1], [0,1], 'b--')\n",
    "    plt.title('AdaBoost马疝病检测系统的ROC曲线', FontProperties = font)\n",
    "    plt.xlabel('假阳率', FontProperties = font)\n",
    "    plt.ylabel('真阳率', FontProperties = font)\n",
    "    ax.axis([0, 1, 0, 1])\n",
    "    print('AUC面积为:', ySum * xStep)                                         #计算AUC\n",
    "    plt.show()\n",
    " \n",
    " "
   ]
  },
  {
   "cell_type": "code",
   "execution_count": 4,
   "metadata": {},
   "outputs": [
    {
     "name": "stdout",
     "output_type": "stream",
     "text": [
      "AUC面积为: 0.8582969635063604\n"
     ]
    },
    {
     "data": {
      "image/png": "[encoded data removed]",
      "text/plain": [
       "<Figure size 432x288 with 1 Axes>"
      ]
     },
     "metadata": {
      "needs_background": "light"
     },
     "output_type": "display_data"
    }
   ],
   "source": [
    "dataArr, LabelArr = loadDataSet('horseColicTraining2.txt')\n",
    "weakClassArr, aggClassEst = adaBoostTrainDS(dataArr, LabelArr, 10)\n",
    "plotROC(aggClassEst.T, LabelArr)"
   ]
  },
  {
   "cell_type": "markdown",
   "metadata": {},
   "source": [
    "先解释ROC，图中的横坐标是伪正例的比例（假阳率=FP/（FP+TN）），而纵坐标是真正例的比例（真阳率=TP/（TP+FN））。ROC曲线给出的是当阈值变化时假阳率和真阳率的变化情况。左下角的点所对应的将所有样例判为反例的情况，而右上角的点对应的则是将所有样例判为正例的情况。虚线给出的是随机猜测的结果曲线。\n",
    "\n",
    "ROC曲线不但可以用于比较分类器，还可以基于成本效益（cost-versus-benefit）分析来做出决策。由于在不同的阈值下，不用的分类器的表现情况是可能各不相同，因此以某种方式将它们组合起来或许更有意义。如果只是简单地观察分类器的错误率，那么我们就难以得到这种更深入的洞察效果了。\n",
    "\n",
    "在理想的情况下，最佳的分类器应该尽可能地处于左上角，这就意味着分类器在假阳率很低的同时获得了很高的真阳率。例如在垃圾邮件的过滤中，就相当于过滤了所有的垃圾邮件，但没有将任何合法邮件误识别为垃圾邮件而放入垃圾邮件额文件夹中。\n",
    "\n",
    "对不同的ROC曲线进行比较的一个指标是曲线下的面积（Area Unser the Curve，AUC）。AUC给出的是分类器的平均性能值，当然它并不能完全代替对整条曲线的观察。一个完美分类器的ACU为1.0，而随机猜测的AUC则为0.5。"
   ]
  },
  {
   "cell_type": "markdown",
   "metadata": {},
   "source": [
    "上面的ROC曲线绘制结果是在10个弱分类器下，AdaBoost算法性能的结果。我们将迭代次数改为50，也就是训练50个弱分类器，看下ROC曲线和AUC的变化："
   ]
  },
  {
   "cell_type": "code",
   "execution_count": 6,
   "metadata": {},
   "outputs": [
    {
     "name": "stdout",
     "output_type": "stream",
     "text": [
      "AUC面积为: 0.8953941870182941\n"
     ]
    },
    {
     "data": {
      "image/png": "[encoded data removed]",
      "text/plain": [
       "<Figure size 432x288 with 1 Axes>"
      ]
     },
     "metadata": {
      "needs_background": "light"
     },
     "output_type": "display_data"
    }
   ],
   "source": [
    "dataArr, LabelArr = loadDataSet('horseColicTraining2.txt')\n",
    "weakClassArr, aggClassEst = adaBoostTrainDS(dataArr, LabelArr, 50)\n",
    "plotROC(aggClassEst.T, LabelArr)"
   ]
  },
  {
   "cell_type": "markdown",
   "metadata": {},
   "source": [
    "ROC曲线往左上角更靠拢了，并且AUC值增加了。也就表明，分类器效果更佳。"
   ]
  },
  {
   "cell_type": "code",
   "execution_count": null,
   "metadata": {},
   "outputs": [],
   "source": []
  }
 ],
 "metadata": {
  "kernelspec": {
   "display_name": "Python 3",
   "language": "python",
   "name": "python3"
  },
  "language_info": {
   "codemirror_mode": {
    "name": "ipython",
    "version": 3
   },
   "file_extension": ".py",
   "mimetype": "text/x-python",
   "name": "python",
   "nbconvert_exporter": "python",
   "pygments_lexer": "ipython3",
   "version": "3.6.8"
  },
  "pycharm": {
   "stem_cell": {
    "cell_type": "raw",
    "metadata": {
     "collapsed": false
    },
    "source": []
   }
  }
 },
 "nbformat": 4,
 "nbformat_minor": 1
}
