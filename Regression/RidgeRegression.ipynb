{
 "cells": [
  {
   "cell_type": "markdown",
   "metadata": {
    "collapsed": true
   },
   "source": [
    "# 岭回归\n",
    "应用场景：数据的特征比样本点还多"
   ]
  },
  {
   "cell_type": "markdown",
   "metadata": {},
   "source": [
    "岭回归即我们所说的L2正则线性回归，在一般的线性回归最小化均方误差的基础上增加了一个参数w的L2范数的罚项，从而最小化罚项残差平方和，简单说来，岭回归就是在普通线性回归的基础上引入单位矩阵。"
   ]
  },
  {
   "cell_type": "markdown",
   "metadata": {},
   "source": [
    "岭回归最先用来处理特征数多于样本数的情况，现在也用于在估计中加入偏差，从而得到更好的估计。这里通过引入λ来限制了所有w之和，通过引入该惩罚项，能够减少不重要的参数，这个技术在统计学中也可以叫做缩减（shrinkage）。\n",
    "\n",
    "缩减方法可以去掉不重要的参数，因此能更好地裂解数据。此外，与简单的线性回归相比，缩减法能够取得更好的预测效果。"
   ]
  },
  {
   "cell_type": "code",
   "execution_count": 8,
   "metadata": {},
   "outputs": [],
   "source": [
    "%matplotlib inline"
   ]
  },
  {
   "cell_type": "code",
   "execution_count": 10,
   "metadata": {},
   "outputs": [],
   "source": [
    "from matplotlib.font_manager import FontProperties\n",
    "import matplotlib.pyplot as plt\n",
    "import numpy as np"
   ]
  },
  {
   "cell_type": "code",
   "execution_count": 12,
   "metadata": {},
   "outputs": [],
   "source": [
    "def loadDataSet(fileName):\n",
    "    \"\"\"\n",
    "    函数说明:加载数据\n",
    "    Parameters:\n",
    "        fileName - 文件名\n",
    "    Returns:\n",
    "        xArr - x数据集\n",
    "        yArr - y数据集\n",
    "    Website:\n",
    "        https://www.cuijiahua.com/\n",
    "    Modify:\n",
    "        2017-11-20\n",
    "    \"\"\"\n",
    "    numFeat = len(open(fileName).readline().split('\\t')) - 1\n",
    "    xArr = []; yArr = []\n",
    "    fr = open(fileName)\n",
    "    for line in fr.readlines():\n",
    "        lineArr =[]\n",
    "        curLine = line.strip().split('\\t')\n",
    "        for i in range(numFeat):\n",
    "            lineArr.append(float(curLine[i]))\n",
    "        xArr.append(lineArr)\n",
    "        yArr.append(float(curLine[-1]))\n",
    "    return xArr, yArr\n",
    "def ridgeRegres(xMat, yMat, lam = 0.2):\n",
    "    \"\"\"\n",
    "    函数说明:岭回归\n",
    "    Parameters:\n",
    "        xMat - x数据集\n",
    "        yMat - y数据集\n",
    "        lam - 缩减系数\n",
    "    Returns:\n",
    "        ws - 回归系数\n",
    "    Website:\n",
    "        https://www.cuijiahua.com/\n",
    "    Modify:\n",
    "        2017-11-20\n",
    "    \"\"\"\n",
    "    xTx = xMat.T * xMat\n",
    "    denom = xTx + np.eye(np.shape(xMat)[1]) * lam\n",
    "    if np.linalg.det(denom) == 0.0:\n",
    "        print(\"矩阵为奇异矩阵,不能转置\")\n",
    "        return\n",
    "    ws = denom.I * (xMat.T * yMat)\n",
    "    return ws\n",
    "def ridgeTest(xArr, yArr):\n",
    "    \"\"\"\n",
    "    函数说明:岭回归测试\n",
    "    Parameters:\n",
    "        xMat - x数据集\n",
    "        yMat - y数据集\n",
    "    Returns:\n",
    "        wMat - 回归系数矩阵\n",
    "    Website:\n",
    "        https://www.cuijiahua.com/\n",
    "    Modify:\n",
    "        2017-11-20\n",
    "    \"\"\"\n",
    "    xMat = np.mat(xArr); yMat = np.mat(yArr).T\n",
    "    #数据标准化\n",
    "    yMean = np.mean(yMat, axis = 0)                        #行与行操作，求均值\n",
    "    yMat = yMat - yMean                                    #数据减去均值\n",
    "    xMeans = np.mean(xMat, axis = 0)                    #行与行操作，求均值\n",
    "    xVar = np.var(xMat, axis = 0)                        #行与行操作，求方差\n",
    "    xMat = (xMat - xMeans) / xVar                        #数据减去均值除以方差实现标准化\n",
    "    numTestPts = 30                                        #30个不同的lambda测试\n",
    "    wMat = np.zeros((numTestPts, np.shape(xMat)[1]))    #初始回归系数矩阵\n",
    "    for i in range(numTestPts):                            #改变lambda计算回归系数\n",
    "        ws = ridgeRegres(xMat, yMat, np.exp(i - 10))    #lambda以e的指数变化，最初是一个非常小的数，\n",
    "        wMat[i, :] = ws.T                                 #计算回归系数矩阵\n",
    "    return wMat\n",
    "def plotwMat():\n",
    "    \"\"\"\n",
    "    函数说明:绘制岭回归系数矩阵\n",
    "    Website:\n",
    "        https://www.cuijiahua.com/\n",
    "    Modify:\n",
    "        2017-11-20\n",
    "    \"\"\"\n",
    "    font = FontProperties(fname=r\"c:\\windows\\fonts\\simsun.ttc\", size=14)\n",
    "    abX, abY = loadDataSet('abalone.txt')\n",
    "    redgeWeights = ridgeTest(abX, abY)\n",
    "    fig = plt.figure()\n",
    "    ax = fig.add_subplot(111)\n",
    "    ax.plot(redgeWeights)    \n",
    "    ax_title_text = ax.set_title(u'log(lambada)与回归系数的关系', FontProperties = font)\n",
    "    ax_xlabel_text = ax.set_xlabel(u'log(lambada)', FontProperties = font)\n",
    "    ax_ylabel_text = ax.set_ylabel(u'回归系数', FontProperties = font)\n",
    "    plt.setp(ax_title_text, size = 20, weight = 'bold', color = 'red')\n",
    "    plt.setp(ax_xlabel_text, size = 10, weight = 'bold', color = 'black')\n",
    "    plt.setp(ax_ylabel_text, size = 10, weight = 'bold', color = 'black')\n",
    "    plt.show()"
   ]
  },
  {
   "cell_type": "code",
   "execution_count": 13,
   "metadata": {},
   "outputs": [
    {
     "data": {
      "image/png": "[encoded data removed]",
      "text/plain": [
       "<Figure size 432x288 with 1 Axes>"
      ]
     },
     "metadata": {
      "needs_background": "light"
     },
     "output_type": "display_data"
    }
   ],
   "source": [
    "plotwMat()"
   ]
  },
  {
   "cell_type": "markdown",
   "metadata": {},
   "source": [
    "图绘制了回归系数与log(λ)的关系。在最左边，即λ最小时，可以得到所有系数的原始值（与线性回归一致）；而在右边，系数全部缩减成0；在中间部分的某个位置，将会得到最好的预测结果。想要得到最佳的λ参数，可以使用交叉验证的方式获得，"
   ]
  },
  {
   "cell_type": "markdown",
   "metadata": {},
   "source": [
    "# 前向逐步线性回归"
   ]
  },
  {
   "cell_type": "markdown",
   "metadata": {},
   "source": [
    "前向逐步线性回归算法属于一种贪心算法，即每一步都尽可能减少误差。我们计算回归系数，不再是通过公式计算，而是通过每次微调各个回归系数，然后计算预测误差。那个使误差最小的一组回归系数，就是我们需要的最佳回归系数。"
   ]
  },
  {
   "cell_type": "code",
   "execution_count": 14,
   "metadata": {},
   "outputs": [],
   "source": [
    "from matplotlib.font_manager import FontProperties\n",
    "import matplotlib.pyplot as plt\n",
    "import numpy as np"
   ]
  },
  {
   "cell_type": "code",
   "execution_count": 15,
   "metadata": {},
   "outputs": [],
   "source": [
    "def loadDataSet(fileName):\n",
    "    \"\"\"\n",
    "    函数说明:加载数据\n",
    "    Parameters:\n",
    "        fileName - 文件名\n",
    "    Returns:\n",
    "        xArr - x数据集\n",
    "        yArr - y数据集\n",
    "    Website:\n",
    "        https://www.cuijiahua.com/\n",
    "    Modify:\n",
    "        2017-11-20\n",
    "    \"\"\"\n",
    "    numFeat = len(open(fileName).readline().split('\\t')) - 1\n",
    "    xArr = []; yArr = []\n",
    "    fr = open(fileName)\n",
    "    for line in fr.readlines():\n",
    "        lineArr =[]\n",
    "        curLine = line.strip().split('\\t')\n",
    "        for i in range(numFeat):\n",
    "            lineArr.append(float(curLine[i]))\n",
    "        xArr.append(lineArr)\n",
    "        yArr.append(float(curLine[-1]))\n",
    "    return xArr, yArr\n",
    " \n",
    "def regularize(xMat, yMat):\n",
    "    \"\"\"\n",
    "    函数说明:数据标准化\n",
    "    Parameters:\n",
    "        xMat - x数据集\n",
    "        yMat - y数据集\n",
    "    Returns:\n",
    "        inxMat - 标准化后的x数据集\n",
    "        inyMat - 标准化后的y数据集\n",
    "    Website:\n",
    "        https://www.cuijiahua.com/\n",
    "    Modify:\n",
    "        2017-11-23\n",
    "    \"\"\"    \n",
    "    inxMat = xMat.copy()                                                        #数据拷贝\n",
    "    inyMat = yMat.copy()\n",
    "    yMean = np.mean(yMat, 0)                                                    #行与行操作，求均值\n",
    "    inyMat = yMat - yMean                                                        #数据减去均值\n",
    "    inMeans = np.mean(inxMat, 0)                                                   #行与行操作，求均值\n",
    "    inVar = np.var(inxMat, 0)                                                     #行与行操作，求方差\n",
    "    inxMat = (inxMat - inMeans) / inVar                                            #数据减去均值除以方差实现标准化\n",
    "    return inxMat, inyMat\n",
    " \n",
    "def rssError(yArr,yHatArr):\n",
    "    \"\"\"\n",
    "    函数说明:计算平方误差\n",
    "    Parameters:\n",
    "        yArr - 预测值\n",
    "        yHatArr - 真实值\n",
    "    Returns:\n",
    "        \n",
    "    Website:\n",
    "        https://www.cuijiahua.com/\n",
    "    Modify:\n",
    "        2017-11-23\n",
    "    \"\"\"\n",
    "    return ((yArr-yHatArr)**2).sum()\n",
    "def stageWise(xArr, yArr, eps = 0.01, numIt = 100):\n",
    "    \"\"\"\n",
    "    函数说明:前向逐步线性回归\n",
    "    Parameters:\n",
    "        xArr - x输入数据\n",
    "        yArr - y预测数据\n",
    "        eps - 每次迭代需要调整的步长\n",
    "        numIt - 迭代次数\n",
    "    Returns:\n",
    "        returnMat - numIt次迭代的回归系数矩阵\n",
    "    Website:\n",
    "        https://www.cuijiahua.com/\n",
    "    Modify:\n",
    "        2017-12-03\n",
    "    \"\"\"\n",
    "    xMat = np.mat(xArr); yMat = np.mat(yArr).T                                         #数据集\n",
    "    xMat, yMat = regularize(xMat, yMat)                                                #数据标准化\n",
    "    m, n = np.shape(xMat)\n",
    "    returnMat = np.zeros((numIt, n))                                                #初始化numIt次迭代的回归系数矩阵\n",
    "    ws = np.zeros((n, 1))                                                            #初始化回归系数矩阵\n",
    "    wsTest = ws.copy()\n",
    "    wsMax = ws.copy()\n",
    "    for i in range(numIt):                                                            #迭代numIt次\n",
    "        # print(ws.T)                                                                    #打印当前回归系数矩阵\n",
    "        lowestError = float('inf');                                                 #正无穷\n",
    "        for j in range(n):                                                            #遍历每个特征的回归系数\n",
    "            for sign in [-1, 1]:\n",
    "                wsTest = ws.copy()\n",
    "                wsTest[j] += eps * sign                                                #微调回归系数\n",
    "                yTest = xMat * wsTest                                                #计算预测值\n",
    "                rssE = rssError(yMat.A, yTest.A)                                    #计算平方误差\n",
    "                if rssE < lowestError:                                                #如果误差更小，则更新当前的最佳回归系数\n",
    "                    lowestError = rssE\n",
    "                    wsMax = wsTest\n",
    "        ws = wsMax.copy()\n",
    "        returnMat[i,:] = ws.T                                                         #记录numIt次迭代的回归系数矩阵\n",
    "    return returnMat\n",
    "def plotstageWiseMat():\n",
    "    \"\"\"\n",
    "    函数说明:绘制岭回归系数矩阵\n",
    "    Website:\n",
    "        https://www.cuijiahua.com/\n",
    "    Modify:\n",
    "        2017-11-20\n",
    "    \"\"\"\n",
    "    font = FontProperties(fname=r\"c:\\windows\\fonts\\simsun.ttc\", size=14)\n",
    "    xArr, yArr = loadDataSet('abalone.txt')\n",
    "    returnMat = stageWise(xArr, yArr, 0.005, 1000)\n",
    "    fig = plt.figure()\n",
    "    ax = fig.add_subplot(111)\n",
    "    ax.plot(returnMat)    \n",
    "    ax_title_text = ax.set_title(u'前向逐步回归:迭代次数与回归系数的关系', FontProperties = font)\n",
    "    ax_xlabel_text = ax.set_xlabel(u'迭代次数', FontProperties = font)\n",
    "    ax_ylabel_text = ax.set_ylabel(u'回归系数', FontProperties = font)\n",
    "    plt.setp(ax_title_text, size = 15, weight = 'bold', color = 'red')\n",
    "    plt.setp(ax_xlabel_text, size = 10, weight = 'bold', color = 'black')\n",
    "    plt.setp(ax_ylabel_text, size = 10, weight = 'bold', color = 'black')\n",
    "    plt.show()"
   ]
  },
  {
   "cell_type": "code",
   "execution_count": 16,
   "metadata": {},
   "outputs": [
    {
     "data": {
      "image/png": "[encoded data removed]",
      "text/plain": [
       "<Figure size 432x288 with 1 Axes>"
      ]
     },
     "metadata": {
      "needs_background": "light"
     },
     "output_type": "display_data"
    }
   ],
   "source": [
    "plotstageWiseMat()"
   ]
  },
  {
   "cell_type": "markdown",
   "metadata": {},
   "source": [
    "可以看到，有些系数从始至终都是约为0的，这说明它们不对目标造成任何影响，也就是说这些特征很可能是不需要的。逐步线性回归算法的优点在于它可以帮助人们理解有的模型并做出改进。当构建了一个模型后，可以运行该算法找出重要的特征，这样就有可能及时停止对那些不重要特征的收集。"
   ]
  },
  {
   "cell_type": "markdown",
   "metadata": {},
   "source": [
    "# 总结\n",
    "缩减方法（逐步线性回归或岭回归），就是将一些系数缩减成很小的值或者直接缩减为0。这样做，就增大了模型的偏差（减少了一些特征的权重），通过把一些特征的回归系数缩减到0，同时也就减少了模型的复杂度。消除了多余的特征之后，模型更容易理解，同时也降低了预测误差。但是当缩减过于严厉的时候，就会出现过拟合的现象，即用训练集预测结果很好，用测试集预测就糟糕很多。"
   ]
  },
  {
   "cell_type": "code",
   "execution_count": null,
   "metadata": {},
   "outputs": [],
   "source": []
  }
 ],
 "metadata": {
  "kernelspec": {
   "display_name": "Python 3",
   "language": "python",
   "name": "python3"
  },
  "language_info": {
   "codemirror_mode": {
    "name": "ipython",
    "version": 3
   },
   "file_extension": ".py",
   "mimetype": "text/x-python",
   "name": "python",
   "nbconvert_exporter": "python",
   "pygments_lexer": "ipython3",
   "version": "3.6.5"
  }
 },
 "nbformat": 4,
 "nbformat_minor": 1
}
